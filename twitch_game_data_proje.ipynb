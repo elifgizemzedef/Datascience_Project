{
 "cells": [
  {
   "cell_type": "code",
   "execution_count": 1,
   "id": "f49f8789",
   "metadata": {},
   "outputs": [],
   "source": [
    "import pandas as pd\n",
    "import matplotlib.pyplot as plt\n",
    "import seaborn as sns\n",
    "import numpy as np\n",
    "import sklearn as sl\n",
    "from sklearn.model_selection import train_test_split\n",
    "from sklearn import linear_model\n",
    "pd.options.mode.chained_assignment = None\n",
    "import pandas as pd\n",
    "import seaborn as sns\n",
    "import numpy as np\n",
    "import sklearn as sl\n",
    "from sklearn.linear_model import LinearRegression,Ridge\n",
    "from sklearn.metrics import r2_score\n"
   ]
  },
  {
   "cell_type": "markdown",
   "id": "10d806a6",
   "metadata": {},
   "source": [
    "# Dosyanın okunması / Read the file"
   ]
  },
  {
   "cell_type": "code",
   "execution_count": 46,
   "id": "193d9774",
   "metadata": {},
   "outputs": [],
   "source": [
    "df = pd.read_csv('twitch_game_data.csv',encoding='cp1252')"
   ]
  },
  {
   "cell_type": "markdown",
   "id": "463769ba",
   "metadata": {},
   "source": [
    "# df yi inceleme / Look the dataframe "
   ]
  },
  {
   "cell_type": "code",
   "execution_count": 47,
   "id": "e257c696",
   "metadata": {},
   "outputs": [
    {
     "data": {
      "text/html": [
       "<div>\n",
       "<style scoped>\n",
       "    .dataframe tbody tr th:only-of-type {\n",
       "        vertical-align: middle;\n",
       "    }\n",
       "\n",
       "    .dataframe tbody tr th {\n",
       "        vertical-align: top;\n",
       "    }\n",
       "\n",
       "    .dataframe thead th {\n",
       "        text-align: right;\n",
       "    }\n",
       "</style>\n",
       "<table border=\"1\" class=\"dataframe\">\n",
       "  <thead>\n",
       "    <tr style=\"text-align: right;\">\n",
       "      <th></th>\n",
       "      <th>Rank</th>\n",
       "      <th>Game</th>\n",
       "      <th>Month</th>\n",
       "      <th>Year</th>\n",
       "      <th>Hours_watched</th>\n",
       "      <th>Hours_Streamed</th>\n",
       "      <th>Peak_viewers</th>\n",
       "      <th>Peak_channels</th>\n",
       "      <th>Streamers</th>\n",
       "      <th>Avg_viewers</th>\n",
       "      <th>Avg_channels</th>\n",
       "      <th>Avg_viewer_ratio</th>\n",
       "    </tr>\n",
       "  </thead>\n",
       "  <tbody>\n",
       "    <tr>\n",
       "      <th>0</th>\n",
       "      <td>1</td>\n",
       "      <td>League of Legends</td>\n",
       "      <td>1</td>\n",
       "      <td>2016</td>\n",
       "      <td>94377226</td>\n",
       "      <td>1362044 hours</td>\n",
       "      <td>530270</td>\n",
       "      <td>2903</td>\n",
       "      <td>129172</td>\n",
       "      <td>127021</td>\n",
       "      <td>1833</td>\n",
       "      <td>69.290000</td>\n",
       "    </tr>\n",
       "    <tr>\n",
       "      <th>1</th>\n",
       "      <td>2</td>\n",
       "      <td>Counter-Strike: Global Offensive</td>\n",
       "      <td>1</td>\n",
       "      <td>2016</td>\n",
       "      <td>47832863</td>\n",
       "      <td>830105 hours</td>\n",
       "      <td>372654</td>\n",
       "      <td>2197</td>\n",
       "      <td>120849</td>\n",
       "      <td>64378</td>\n",
       "      <td>1117</td>\n",
       "      <td>57.620000</td>\n",
       "    </tr>\n",
       "    <tr>\n",
       "      <th>2</th>\n",
       "      <td>3</td>\n",
       "      <td>Dota 2</td>\n",
       "      <td>1</td>\n",
       "      <td>2016</td>\n",
       "      <td>45185893</td>\n",
       "      <td>433397 hours</td>\n",
       "      <td>315083</td>\n",
       "      <td>1100</td>\n",
       "      <td>44074</td>\n",
       "      <td>60815</td>\n",
       "      <td>583</td>\n",
       "      <td>104.260000</td>\n",
       "    </tr>\n",
       "    <tr>\n",
       "      <th>3</th>\n",
       "      <td>4</td>\n",
       "      <td>Hearthstone</td>\n",
       "      <td>1</td>\n",
       "      <td>2016</td>\n",
       "      <td>39936159</td>\n",
       "      <td>235903 hours</td>\n",
       "      <td>131357</td>\n",
       "      <td>517</td>\n",
       "      <td>36170</td>\n",
       "      <td>53749</td>\n",
       "      <td>317</td>\n",
       "      <td>169.290000</td>\n",
       "    </tr>\n",
       "    <tr>\n",
       "      <th>4</th>\n",
       "      <td>5</td>\n",
       "      <td>Call of Duty: Black Ops III</td>\n",
       "      <td>1</td>\n",
       "      <td>2016</td>\n",
       "      <td>16153057</td>\n",
       "      <td>1151578 hours</td>\n",
       "      <td>71639</td>\n",
       "      <td>3620</td>\n",
       "      <td>214054</td>\n",
       "      <td>21740</td>\n",
       "      <td>1549</td>\n",
       "      <td>14.030000</td>\n",
       "    </tr>\n",
       "    <tr>\n",
       "      <th>5</th>\n",
       "      <td>6</td>\n",
       "      <td>Minecraft</td>\n",
       "      <td>1</td>\n",
       "      <td>2016</td>\n",
       "      <td>10231056</td>\n",
       "      <td>490002 hours</td>\n",
       "      <td>64432</td>\n",
       "      <td>1538</td>\n",
       "      <td>88820</td>\n",
       "      <td>13769</td>\n",
       "      <td>659</td>\n",
       "      <td>20.880000</td>\n",
       "    </tr>\n",
       "  </tbody>\n",
       "</table>\n",
       "</div>"
      ],
      "text/plain": [
       "   Rank                              Game  Month  Year  Hours_watched  \\\n",
       "0     1                 League of Legends      1  2016       94377226   \n",
       "1     2  Counter-Strike: Global Offensive      1  2016       47832863   \n",
       "2     3                            Dota 2      1  2016       45185893   \n",
       "3     4                       Hearthstone      1  2016       39936159   \n",
       "4     5       Call of Duty: Black Ops III      1  2016       16153057   \n",
       "5     6                         Minecraft      1  2016       10231056   \n",
       "\n",
       "  Hours_Streamed  Peak_viewers  Peak_channels  Streamers  Avg_viewers  \\\n",
       "0  1362044 hours        530270           2903     129172       127021   \n",
       "1   830105 hours        372654           2197     120849        64378   \n",
       "2   433397 hours        315083           1100      44074        60815   \n",
       "3   235903 hours        131357            517      36170        53749   \n",
       "4  1151578 hours         71639           3620     214054        21740   \n",
       "5   490002 hours         64432           1538      88820        13769   \n",
       "\n",
       "   Avg_channels  Avg_viewer_ratio  \n",
       "0          1833         69.290000  \n",
       "1          1117         57.620000  \n",
       "2           583        104.260000  \n",
       "3           317        169.290000  \n",
       "4          1549         14.030000  \n",
       "5           659         20.880000  "
      ]
     },
     "execution_count": 47,
     "metadata": {},
     "output_type": "execute_result"
    }
   ],
   "source": [
    "df.head(6)"
   ]
  },
  {
   "cell_type": "code",
   "execution_count": 48,
   "id": "336552ee",
   "metadata": {
    "scrolled": false
   },
   "outputs": [
    {
     "data": {
      "text/plain": [
       "(14200, 12)"
      ]
     },
     "execution_count": 48,
     "metadata": {},
     "output_type": "execute_result"
    }
   ],
   "source": [
    "df.shape"
   ]
  },
  {
   "cell_type": "code",
   "execution_count": 49,
   "id": "58c76f7c",
   "metadata": {
    "scrolled": true
   },
   "outputs": [
    {
     "data": {
      "text/plain": [
       "Rank                  int64\n",
       "Game                 object\n",
       "Month                 int64\n",
       "Year                  int64\n",
       "Hours_watched         int64\n",
       "Hours_Streamed       object\n",
       "Peak_viewers          int64\n",
       "Peak_channels         int64\n",
       "Streamers             int64\n",
       "Avg_viewers           int64\n",
       "Avg_channels          int64\n",
       "Avg_viewer_ratio    float64\n",
       "dtype: object"
      ]
     },
     "execution_count": 49,
     "metadata": {},
     "output_type": "execute_result"
    }
   ],
   "source": [
    "df.dtypes"
   ]
  },
  {
   "cell_type": "markdown",
   "id": "6b38fce0",
   "metadata": {},
   "source": [
    "# Saat değerlerinin son 6 rakamını silme / Deleting last 6 numbers of hour instances"
   ]
  },
  {
   "cell_type": "code",
   "execution_count": 50,
   "id": "e72224be",
   "metadata": {},
   "outputs": [],
   "source": [
    "i=0\n",
    "for item in df[\"Hours_Streamed\"]:\n",
    "    df[\"Hours_Streamed\"].iloc[i] = np.int64(df[\"Hours_Streamed\"].iloc[i][:-6])\n",
    "    i+=1"
   ]
  },
  {
   "cell_type": "code",
   "execution_count": 52,
   "id": "f92577f1",
   "metadata": {},
   "outputs": [
    {
     "name": "stderr",
     "output_type": "stream",
     "text": [
      "C:\\Users\\Elif\\AppData\\Local\\Temp\\ipykernel_1488\\3698961737.py:1: FutureWarning: The default value of numeric_only in DataFrame.mean is deprecated. In a future version, it will default to False. In addition, specifying 'numeric_only=None' is deprecated. Select only valid columns or specify the value of numeric_only to silence this warning.\n",
      "  df.mean()\n"
     ]
    },
    {
     "data": {
      "text/plain": [
       "Rank                   100.500000\n",
       "Month                    6.422535\n",
       "Year                  2018.464789\n",
       "Hours_watched      4730352.399577\n",
       "Hours_Streamed      155623.847606\n",
       "Peak_viewers         54487.469648\n",
       "Peak_channels          577.256972\n",
       "Streamers            17119.756690\n",
       "Avg_viewers           6485.326408\n",
       "Avg_channels           212.900915\n",
       "Avg_viewer_ratio        82.292956\n",
       "dtype: float64"
      ]
     },
     "execution_count": 52,
     "metadata": {},
     "output_type": "execute_result"
    }
   ],
   "source": [
    "df.mean()"
   ]
  },
  {
   "cell_type": "code",
   "execution_count": 53,
   "id": "5ed68ebf",
   "metadata": {},
   "outputs": [
    {
     "data": {
      "text/html": [
       "<div>\n",
       "<style scoped>\n",
       "    .dataframe tbody tr th:only-of-type {\n",
       "        vertical-align: middle;\n",
       "    }\n",
       "\n",
       "    .dataframe tbody tr th {\n",
       "        vertical-align: top;\n",
       "    }\n",
       "\n",
       "    .dataframe thead th {\n",
       "        text-align: right;\n",
       "    }\n",
       "</style>\n",
       "<table border=\"1\" class=\"dataframe\">\n",
       "  <thead>\n",
       "    <tr style=\"text-align: right;\">\n",
       "      <th></th>\n",
       "      <th>Rank</th>\n",
       "      <th>Game</th>\n",
       "      <th>Month</th>\n",
       "      <th>Year</th>\n",
       "      <th>Hours_watched</th>\n",
       "      <th>Hours_Streamed</th>\n",
       "      <th>Peak_viewers</th>\n",
       "      <th>Peak_channels</th>\n",
       "      <th>Streamers</th>\n",
       "      <th>Avg_viewers</th>\n",
       "      <th>Avg_channels</th>\n",
       "      <th>Avg_viewer_ratio</th>\n",
       "    </tr>\n",
       "  </thead>\n",
       "  <tbody>\n",
       "    <tr>\n",
       "      <th>14195</th>\n",
       "      <td>196</td>\n",
       "      <td>War Thunder</td>\n",
       "      <td>11</td>\n",
       "      <td>2021</td>\n",
       "      <td>645300</td>\n",
       "      <td>71128</td>\n",
       "      <td>6286</td>\n",
       "      <td>215</td>\n",
       "      <td>6374</td>\n",
       "      <td>897</td>\n",
       "      <td>98</td>\n",
       "      <td>9.070000</td>\n",
       "    </tr>\n",
       "    <tr>\n",
       "      <th>14196</th>\n",
       "      <td>197</td>\n",
       "      <td>Dofus</td>\n",
       "      <td>11</td>\n",
       "      <td>2021</td>\n",
       "      <td>645248</td>\n",
       "      <td>20979</td>\n",
       "      <td>6319</td>\n",
       "      <td>71</td>\n",
       "      <td>1273</td>\n",
       "      <td>897</td>\n",
       "      <td>29</td>\n",
       "      <td>30.760000</td>\n",
       "    </tr>\n",
       "    <tr>\n",
       "      <th>14197</th>\n",
       "      <td>198</td>\n",
       "      <td>Monster Hunter: World</td>\n",
       "      <td>11</td>\n",
       "      <td>2021</td>\n",
       "      <td>635375</td>\n",
       "      <td>69110</td>\n",
       "      <td>5487</td>\n",
       "      <td>169</td>\n",
       "      <td>6686</td>\n",
       "      <td>883</td>\n",
       "      <td>96</td>\n",
       "      <td>9.190000</td>\n",
       "    </tr>\n",
       "    <tr>\n",
       "      <th>14198</th>\n",
       "      <td>199</td>\n",
       "      <td>Gas Station Simulator</td>\n",
       "      <td>11</td>\n",
       "      <td>2021</td>\n",
       "      <td>617396</td>\n",
       "      <td>8015</td>\n",
       "      <td>26865</td>\n",
       "      <td>38</td>\n",
       "      <td>1716</td>\n",
       "      <td>858</td>\n",
       "      <td>11</td>\n",
       "      <td>77.030000</td>\n",
       "    </tr>\n",
       "    <tr>\n",
       "      <th>14199</th>\n",
       "      <td>200</td>\n",
       "      <td>Knight Online</td>\n",
       "      <td>11</td>\n",
       "      <td>2021</td>\n",
       "      <td>607581</td>\n",
       "      <td>23773</td>\n",
       "      <td>3361</td>\n",
       "      <td>89</td>\n",
       "      <td>1152</td>\n",
       "      <td>845</td>\n",
       "      <td>33</td>\n",
       "      <td>25.560000</td>\n",
       "    </tr>\n",
       "  </tbody>\n",
       "</table>\n",
       "</div>"
      ],
      "text/plain": [
       "       Rank                   Game  Month  Year  Hours_watched Hours_Streamed  \\\n",
       "14195   196            War Thunder     11  2021         645300          71128   \n",
       "14196   197                  Dofus     11  2021         645248          20979   \n",
       "14197   198  Monster Hunter: World     11  2021         635375          69110   \n",
       "14198   199  Gas Station Simulator     11  2021         617396           8015   \n",
       "14199   200          Knight Online     11  2021         607581          23773   \n",
       "\n",
       "       Peak_viewers  Peak_channels  Streamers  Avg_viewers  Avg_channels  \\\n",
       "14195          6286            215       6374          897            98   \n",
       "14196          6319             71       1273          897            29   \n",
       "14197          5487            169       6686          883            96   \n",
       "14198         26865             38       1716          858            11   \n",
       "14199          3361             89       1152          845            33   \n",
       "\n",
       "       Avg_viewer_ratio  \n",
       "14195          9.070000  \n",
       "14196         30.760000  \n",
       "14197          9.190000  \n",
       "14198         77.030000  \n",
       "14199         25.560000  "
      ]
     },
     "execution_count": 53,
     "metadata": {},
     "output_type": "execute_result"
    }
   ],
   "source": [
    "df.tail(5)"
   ]
  },
  {
   "cell_type": "code",
   "execution_count": 54,
   "id": "534dab6b",
   "metadata": {},
   "outputs": [
    {
     "data": {
      "text/plain": [
       "(14200, 12)"
      ]
     },
     "execution_count": 54,
     "metadata": {},
     "output_type": "execute_result"
    }
   ],
   "source": [
    "df.shape"
   ]
  },
  {
   "cell_type": "markdown",
   "id": "1713abfb",
   "metadata": {},
   "source": [
    "# null veriyi silme / Delete null value"
   ]
  },
  {
   "cell_type": "code",
   "execution_count": 58,
   "id": "ab9ef1e5",
   "metadata": {},
   "outputs": [
    {
     "data": {
      "text/plain": [
       "Rank                0\n",
       "Game                0\n",
       "Month               0\n",
       "Year                0\n",
       "Hours_watched       0\n",
       "Hours_Streamed      0\n",
       "Peak_viewers        0\n",
       "Peak_channels       0\n",
       "Streamers           0\n",
       "Avg_viewers         0\n",
       "Avg_channels        0\n",
       "Avg_viewer_ratio    0\n",
       "dtype: int64"
      ]
     },
     "execution_count": 58,
     "metadata": {},
     "output_type": "execute_result"
    }
   ],
   "source": [
    "df.isnull().sum()"
   ]
  },
  {
   "cell_type": "code",
   "execution_count": 59,
   "id": "f0239ba2",
   "metadata": {},
   "outputs": [],
   "source": [
    "df.dropna(inplace = True)"
   ]
  },
  {
   "cell_type": "code",
   "execution_count": 60,
   "id": "41362bfc",
   "metadata": {},
   "outputs": [
    {
     "data": {
      "text/plain": [
       "Rank                0\n",
       "Game                0\n",
       "Month               0\n",
       "Year                0\n",
       "Hours_watched       0\n",
       "Hours_Streamed      0\n",
       "Peak_viewers        0\n",
       "Peak_channels       0\n",
       "Streamers           0\n",
       "Avg_viewers         0\n",
       "Avg_channels        0\n",
       "Avg_viewer_ratio    0\n",
       "dtype: int64"
      ]
     },
     "execution_count": 60,
     "metadata": {},
     "output_type": "execute_result"
    }
   ],
   "source": [
    "df.isnull().sum()"
   ]
  },
  {
   "cell_type": "markdown",
   "id": "5688a87b",
   "metadata": {},
   "source": [
    "# Görselleştirme / Visualization\n"
   ]
  },
  {
   "cell_type": "code",
   "execution_count": 64,
   "id": "102e3ba4",
   "metadata": {},
   "outputs": [
    {
     "data": {
      "text/html": [
       "<div>\n",
       "<style scoped>\n",
       "    .dataframe tbody tr th:only-of-type {\n",
       "        vertical-align: middle;\n",
       "    }\n",
       "\n",
       "    .dataframe tbody tr th {\n",
       "        vertical-align: top;\n",
       "    }\n",
       "\n",
       "    .dataframe thead th {\n",
       "        text-align: right;\n",
       "    }\n",
       "</style>\n",
       "<table border=\"1\" class=\"dataframe\">\n",
       "  <thead>\n",
       "    <tr style=\"text-align: right;\">\n",
       "      <th></th>\n",
       "      <th>count</th>\n",
       "      <th>mean</th>\n",
       "      <th>std</th>\n",
       "      <th>min</th>\n",
       "      <th>25%</th>\n",
       "      <th>50%</th>\n",
       "      <th>75%</th>\n",
       "      <th>max</th>\n",
       "    </tr>\n",
       "  </thead>\n",
       "  <tbody>\n",
       "    <tr>\n",
       "      <th>Rank</th>\n",
       "      <td>14199.000000</td>\n",
       "      <td>100.495669</td>\n",
       "      <td>57.736064</td>\n",
       "      <td>1.000000</td>\n",
       "      <td>50.500000</td>\n",
       "      <td>100.000000</td>\n",
       "      <td>150.000000</td>\n",
       "      <td>200.000000</td>\n",
       "    </tr>\n",
       "    <tr>\n",
       "      <th>Month</th>\n",
       "      <td>14199.000000</td>\n",
       "      <td>6.422847</td>\n",
       "      <td>3.413607</td>\n",
       "      <td>1.000000</td>\n",
       "      <td>3.000000</td>\n",
       "      <td>6.000000</td>\n",
       "      <td>9.000000</td>\n",
       "      <td>12.000000</td>\n",
       "    </tr>\n",
       "    <tr>\n",
       "      <th>Year</th>\n",
       "      <td>14199.000000</td>\n",
       "      <td>2018.464751</td>\n",
       "      <td>1.693772</td>\n",
       "      <td>2016.000000</td>\n",
       "      <td>2017.000000</td>\n",
       "      <td>2018.000000</td>\n",
       "      <td>2020.000000</td>\n",
       "      <td>2021.000000</td>\n",
       "    </tr>\n",
       "    <tr>\n",
       "      <th>Hours_watched</th>\n",
       "      <td>14199.000000</td>\n",
       "      <td>4730663.153955</td>\n",
       "      <td>16531982.222792</td>\n",
       "      <td>89811.000000</td>\n",
       "      <td>363514.500000</td>\n",
       "      <td>809434.000000</td>\n",
       "      <td>2268004.500000</td>\n",
       "      <td>344551979.000000</td>\n",
       "    </tr>\n",
       "    <tr>\n",
       "      <th>Peak_viewers</th>\n",
       "      <td>14199.000000</td>\n",
       "      <td>54489.129516</td>\n",
       "      <td>131725.254457</td>\n",
       "      <td>441.000000</td>\n",
       "      <td>8272.500000</td>\n",
       "      <td>19950.000000</td>\n",
       "      <td>45444.000000</td>\n",
       "      <td>3123208.000000</td>\n",
       "    </tr>\n",
       "    <tr>\n",
       "      <th>Peak_channels</th>\n",
       "      <td>14199.000000</td>\n",
       "      <td>576.888865</td>\n",
       "      <td>2631.148026</td>\n",
       "      <td>1.000000</td>\n",
       "      <td>51.000000</td>\n",
       "      <td>121.000000</td>\n",
       "      <td>315.000000</td>\n",
       "      <td>129860.000000</td>\n",
       "    </tr>\n",
       "    <tr>\n",
       "      <th>Streamers</th>\n",
       "      <td>14199.000000</td>\n",
       "      <td>17119.430030</td>\n",
       "      <td>54465.625079</td>\n",
       "      <td>0.000000</td>\n",
       "      <td>1461.000000</td>\n",
       "      <td>4088.000000</td>\n",
       "      <td>10651.000000</td>\n",
       "      <td>1013029.000000</td>\n",
       "    </tr>\n",
       "    <tr>\n",
       "      <th>Avg_viewers</th>\n",
       "      <td>14199.000000</td>\n",
       "      <td>6485.749842</td>\n",
       "      <td>22670.546870</td>\n",
       "      <td>120.000000</td>\n",
       "      <td>498.000000</td>\n",
       "      <td>1110.000000</td>\n",
       "      <td>3104.500000</td>\n",
       "      <td>479209.000000</td>\n",
       "    </tr>\n",
       "    <tr>\n",
       "      <th>Avg_channels</th>\n",
       "      <td>14199.000000</td>\n",
       "      <td>212.907881</td>\n",
       "      <td>742.668106</td>\n",
       "      <td>0.000000</td>\n",
       "      <td>16.000000</td>\n",
       "      <td>42.000000</td>\n",
       "      <td>120.000000</td>\n",
       "      <td>13789.000000</td>\n",
       "    </tr>\n",
       "    <tr>\n",
       "      <th>Avg_viewer_ratio</th>\n",
       "      <td>14199.000000</td>\n",
       "      <td>82.298461</td>\n",
       "      <td>371.322250</td>\n",
       "      <td>1.980000</td>\n",
       "      <td>16.100000</td>\n",
       "      <td>29.150000</td>\n",
       "      <td>57.820000</td>\n",
       "      <td>13601.870000</td>\n",
       "    </tr>\n",
       "  </tbody>\n",
       "</table>\n",
       "</div>"
      ],
      "text/plain": [
       "                        count           mean             std          min  \\\n",
       "Rank             14199.000000     100.495669       57.736064     1.000000   \n",
       "Month            14199.000000       6.422847        3.413607     1.000000   \n",
       "Year             14199.000000    2018.464751        1.693772  2016.000000   \n",
       "Hours_watched    14199.000000 4730663.153955 16531982.222792 89811.000000   \n",
       "Peak_viewers     14199.000000   54489.129516   131725.254457   441.000000   \n",
       "Peak_channels    14199.000000     576.888865     2631.148026     1.000000   \n",
       "Streamers        14199.000000   17119.430030    54465.625079     0.000000   \n",
       "Avg_viewers      14199.000000    6485.749842    22670.546870   120.000000   \n",
       "Avg_channels     14199.000000     212.907881      742.668106     0.000000   \n",
       "Avg_viewer_ratio 14199.000000      82.298461      371.322250     1.980000   \n",
       "\n",
       "                           25%           50%            75%              max  \n",
       "Rank                 50.500000    100.000000     150.000000       200.000000  \n",
       "Month                 3.000000      6.000000       9.000000        12.000000  \n",
       "Year               2017.000000   2018.000000    2020.000000      2021.000000  \n",
       "Hours_watched    363514.500000 809434.000000 2268004.500000 344551979.000000  \n",
       "Peak_viewers       8272.500000  19950.000000   45444.000000   3123208.000000  \n",
       "Peak_channels        51.000000    121.000000     315.000000    129860.000000  \n",
       "Streamers          1461.000000   4088.000000   10651.000000   1013029.000000  \n",
       "Avg_viewers         498.000000   1110.000000    3104.500000    479209.000000  \n",
       "Avg_channels         16.000000     42.000000     120.000000     13789.000000  \n",
       "Avg_viewer_ratio     16.100000     29.150000      57.820000     13601.870000  "
      ]
     },
     "execution_count": 64,
     "metadata": {},
     "output_type": "execute_result"
    }
   ],
   "source": [
    "df.describe().T"
   ]
  },
  {
   "cell_type": "code",
   "execution_count": 65,
   "id": "404e314e",
   "metadata": {},
   "outputs": [],
   "source": [
    "pd.set_option('float_format', '{:f}'.format)"
   ]
  },
  {
   "cell_type": "code",
   "execution_count": 66,
   "id": "237f85ae",
   "metadata": {},
   "outputs": [
    {
     "data": {
      "text/html": [
       "<div>\n",
       "<style scoped>\n",
       "    .dataframe tbody tr th:only-of-type {\n",
       "        vertical-align: middle;\n",
       "    }\n",
       "\n",
       "    .dataframe tbody tr th {\n",
       "        vertical-align: top;\n",
       "    }\n",
       "\n",
       "    .dataframe thead th {\n",
       "        text-align: right;\n",
       "    }\n",
       "</style>\n",
       "<table border=\"1\" class=\"dataframe\">\n",
       "  <thead>\n",
       "    <tr style=\"text-align: right;\">\n",
       "      <th></th>\n",
       "      <th>Rank</th>\n",
       "      <th>Month</th>\n",
       "      <th>Year</th>\n",
       "      <th>Hours_watched</th>\n",
       "      <th>Peak_viewers</th>\n",
       "      <th>Peak_channels</th>\n",
       "      <th>Streamers</th>\n",
       "      <th>Avg_viewers</th>\n",
       "      <th>Avg_channels</th>\n",
       "      <th>Avg_viewer_ratio</th>\n",
       "    </tr>\n",
       "  </thead>\n",
       "  <tbody>\n",
       "    <tr>\n",
       "      <th>count</th>\n",
       "      <td>14199.000000</td>\n",
       "      <td>14199.000000</td>\n",
       "      <td>14199.000000</td>\n",
       "      <td>14199.000000</td>\n",
       "      <td>14199.000000</td>\n",
       "      <td>14199.000000</td>\n",
       "      <td>14199.000000</td>\n",
       "      <td>14199.000000</td>\n",
       "      <td>14199.000000</td>\n",
       "      <td>14199.000000</td>\n",
       "    </tr>\n",
       "    <tr>\n",
       "      <th>mean</th>\n",
       "      <td>100.495669</td>\n",
       "      <td>6.422847</td>\n",
       "      <td>2018.464751</td>\n",
       "      <td>4730663.153955</td>\n",
       "      <td>54489.129516</td>\n",
       "      <td>576.888865</td>\n",
       "      <td>17119.430030</td>\n",
       "      <td>6485.749842</td>\n",
       "      <td>212.907881</td>\n",
       "      <td>82.298461</td>\n",
       "    </tr>\n",
       "    <tr>\n",
       "      <th>std</th>\n",
       "      <td>57.736064</td>\n",
       "      <td>3.413607</td>\n",
       "      <td>1.693772</td>\n",
       "      <td>16531982.222792</td>\n",
       "      <td>131725.254457</td>\n",
       "      <td>2631.148026</td>\n",
       "      <td>54465.625079</td>\n",
       "      <td>22670.546870</td>\n",
       "      <td>742.668106</td>\n",
       "      <td>371.322250</td>\n",
       "    </tr>\n",
       "    <tr>\n",
       "      <th>min</th>\n",
       "      <td>1.000000</td>\n",
       "      <td>1.000000</td>\n",
       "      <td>2016.000000</td>\n",
       "      <td>89811.000000</td>\n",
       "      <td>441.000000</td>\n",
       "      <td>1.000000</td>\n",
       "      <td>0.000000</td>\n",
       "      <td>120.000000</td>\n",
       "      <td>0.000000</td>\n",
       "      <td>1.980000</td>\n",
       "    </tr>\n",
       "    <tr>\n",
       "      <th>25%</th>\n",
       "      <td>50.500000</td>\n",
       "      <td>3.000000</td>\n",
       "      <td>2017.000000</td>\n",
       "      <td>363514.500000</td>\n",
       "      <td>8272.500000</td>\n",
       "      <td>51.000000</td>\n",
       "      <td>1461.000000</td>\n",
       "      <td>498.000000</td>\n",
       "      <td>16.000000</td>\n",
       "      <td>16.100000</td>\n",
       "    </tr>\n",
       "    <tr>\n",
       "      <th>50%</th>\n",
       "      <td>100.000000</td>\n",
       "      <td>6.000000</td>\n",
       "      <td>2018.000000</td>\n",
       "      <td>809434.000000</td>\n",
       "      <td>19950.000000</td>\n",
       "      <td>121.000000</td>\n",
       "      <td>4088.000000</td>\n",
       "      <td>1110.000000</td>\n",
       "      <td>42.000000</td>\n",
       "      <td>29.150000</td>\n",
       "    </tr>\n",
       "    <tr>\n",
       "      <th>75%</th>\n",
       "      <td>150.000000</td>\n",
       "      <td>9.000000</td>\n",
       "      <td>2020.000000</td>\n",
       "      <td>2268004.500000</td>\n",
       "      <td>45444.000000</td>\n",
       "      <td>315.000000</td>\n",
       "      <td>10651.000000</td>\n",
       "      <td>3104.500000</td>\n",
       "      <td>120.000000</td>\n",
       "      <td>57.820000</td>\n",
       "    </tr>\n",
       "    <tr>\n",
       "      <th>max</th>\n",
       "      <td>200.000000</td>\n",
       "      <td>12.000000</td>\n",
       "      <td>2021.000000</td>\n",
       "      <td>344551979.000000</td>\n",
       "      <td>3123208.000000</td>\n",
       "      <td>129860.000000</td>\n",
       "      <td>1013029.000000</td>\n",
       "      <td>479209.000000</td>\n",
       "      <td>13789.000000</td>\n",
       "      <td>13601.870000</td>\n",
       "    </tr>\n",
       "  </tbody>\n",
       "</table>\n",
       "</div>"
      ],
      "text/plain": [
       "              Rank        Month         Year    Hours_watched   Peak_viewers  \\\n",
       "count 14199.000000 14199.000000 14199.000000     14199.000000   14199.000000   \n",
       "mean    100.495669     6.422847  2018.464751   4730663.153955   54489.129516   \n",
       "std      57.736064     3.413607     1.693772  16531982.222792  131725.254457   \n",
       "min       1.000000     1.000000  2016.000000     89811.000000     441.000000   \n",
       "25%      50.500000     3.000000  2017.000000    363514.500000    8272.500000   \n",
       "50%     100.000000     6.000000  2018.000000    809434.000000   19950.000000   \n",
       "75%     150.000000     9.000000  2020.000000   2268004.500000   45444.000000   \n",
       "max     200.000000    12.000000  2021.000000 344551979.000000 3123208.000000   \n",
       "\n",
       "       Peak_channels      Streamers   Avg_viewers  Avg_channels  \\\n",
       "count   14199.000000   14199.000000  14199.000000  14199.000000   \n",
       "mean      576.888865   17119.430030   6485.749842    212.907881   \n",
       "std      2631.148026   54465.625079  22670.546870    742.668106   \n",
       "min         1.000000       0.000000    120.000000      0.000000   \n",
       "25%        51.000000    1461.000000    498.000000     16.000000   \n",
       "50%       121.000000    4088.000000   1110.000000     42.000000   \n",
       "75%       315.000000   10651.000000   3104.500000    120.000000   \n",
       "max    129860.000000 1013029.000000 479209.000000  13789.000000   \n",
       "\n",
       "       Avg_viewer_ratio  \n",
       "count      14199.000000  \n",
       "mean          82.298461  \n",
       "std          371.322250  \n",
       "min            1.980000  \n",
       "25%           16.100000  \n",
       "50%           29.150000  \n",
       "75%           57.820000  \n",
       "max        13601.870000  "
      ]
     },
     "execution_count": 66,
     "metadata": {},
     "output_type": "execute_result"
    }
   ],
   "source": [
    "df.describe()"
   ]
  },
  {
   "cell_type": "code",
   "execution_count": 67,
   "id": "05fa06a6",
   "metadata": {},
   "outputs": [
    {
     "name": "stderr",
     "output_type": "stream",
     "text": [
      "C:\\Users\\Elif\\AppData\\Local\\Temp\\ipykernel_1488\\2946790896.py:1: FutureWarning: The default value of numeric_only in DataFrameGroupBy.sum is deprecated. In a future version, numeric_only will default to False. Either specify numeric_only or select only columns which should be valid for the function.\n",
      "  a = df.groupby([\"Year\"]).sum()\n"
     ]
    },
    {
     "data": {
      "text/plain": [
       "<AxesSubplot: xlabel='Year'>"
      ]
     },
     "execution_count": 67,
     "metadata": {},
     "output_type": "execute_result"
    },
    {
     "data": {
      "image/png": "[encoded data removed]",
      "text/plain": [
       "<Figure size 640x480 with 1 Axes>"
      ]
     },
     "metadata": {},
     "output_type": "display_data"
    }
   ],
   "source": [
    "a = df.groupby([\"Year\"]).sum()\n",
    "a[\"Hours_watched\"].plot()"
   ]
  },
  {
   "cell_type": "code",
   "execution_count": 68,
   "id": "f004b28a",
   "metadata": {},
   "outputs": [
    {
     "name": "stderr",
     "output_type": "stream",
     "text": [
      "C:\\Users\\Elif\\AppData\\Local\\Temp\\ipykernel_1488\\2564359332.py:1: FutureWarning: The default value of numeric_only in DataFrameGroupBy.mean is deprecated. In a future version, numeric_only will default to False. Either specify numeric_only or select only columns which should be valid for the function.\n",
      "  b= df.groupby([\"Month\"]).mean()\n"
     ]
    },
    {
     "data": {
      "image/png": "[encoded data removed]",
      "text/plain": [
       "<Figure size 640x480 with 1 Axes>"
      ]
     },
     "metadata": {},
     "output_type": "display_data"
    }
   ],
   "source": [
    "b= df.groupby([\"Month\"]).mean()\n",
    "plt=b[\"Hours_watched\"].plot(color=\"black\" ,linewidth=5)\n"
   ]
  },
  {
   "cell_type": "code",
   "execution_count": 69,
   "id": "23bfba2e",
   "metadata": {},
   "outputs": [
    {
     "name": "stderr",
     "output_type": "stream",
     "text": [
      "C:\\Users\\Elif\\AppData\\Local\\Temp\\ipykernel_1488\\1971705019.py:1: FutureWarning: The default value of numeric_only in DataFrameGroupBy.mean is deprecated. In a future version, numeric_only will default to False. Either specify numeric_only or select only columns which should be valid for the function.\n",
      "  b= df.groupby([\"Month\"]).mean()\n"
     ]
    },
    {
     "data": {
      "text/plain": [
       "<AxesSubplot: xlabel='Month'>"
      ]
     },
     "execution_count": 69,
     "metadata": {},
     "output_type": "execute_result"
    },
    {
     "data": {
      "image/png": "[encoded data removed]",
      "text/plain": [
       "<Figure size 640x480 with 1 Axes>"
      ]
     },
     "metadata": {},
     "output_type": "display_data"
    }
   ],
   "source": [
    "b= df.groupby([\"Month\"]).mean()\n",
    "b[\"Hours_watched\"].plot()"
   ]
  },
  {
   "cell_type": "code",
   "execution_count": 70,
   "id": "add6e673",
   "metadata": {},
   "outputs": [
    {
     "data": {
      "text/plain": [
       "14199"
      ]
     },
     "execution_count": 70,
     "metadata": {},
     "output_type": "execute_result"
    }
   ],
   "source": [
    "df[\"Game\"].count()"
   ]
  },
  {
   "cell_type": "code",
   "execution_count": 71,
   "id": "653dac6d",
   "metadata": {},
   "outputs": [
    {
     "data": {
      "text/plain": [
       "1784"
      ]
     },
     "execution_count": 71,
     "metadata": {},
     "output_type": "execute_result"
    }
   ],
   "source": [
    "df[\"Game\"].nunique()"
   ]
  },
  {
   "cell_type": "code",
   "execution_count": 73,
   "id": "84f96d06",
   "metadata": {},
   "outputs": [
    {
     "data": {
      "text/plain": [
       "39"
      ]
     },
     "execution_count": 73,
     "metadata": {},
     "output_type": "execute_result"
    }
   ],
   "source": [
    "df[(df.Game == \"Just Chatting\")][\"Game\"].count()"
   ]
  },
  {
   "cell_type": "code",
   "execution_count": 74,
   "id": "859783b7",
   "metadata": {},
   "outputs": [
    {
     "name": "stderr",
     "output_type": "stream",
     "text": [
      "C:\\Users\\Elif\\AppData\\Local\\Temp\\ipykernel_1488\\3379659077.py:1: FutureWarning: The default value of numeric_only in DataFrameGroupBy.mean is deprecated. In a future version, numeric_only will default to False. Either specify numeric_only or select only columns which should be valid for the function.\n",
      "  dff=pd.DataFrame(df.groupby([\"Game\"]).mean())\n"
     ]
    },
    {
     "data": {
      "text/plain": [
       "<AxesSubplot: xlabel='Game'>"
      ]
     },
     "execution_count": 74,
     "metadata": {},
     "output_type": "execute_result"
    },
    {
     "data": {
      "image/png": "[encoded data removed]",
      "text/plain": [
       "<Figure size 640x480 with 1 Axes>"
      ]
     },
     "metadata": {},
     "output_type": "display_data"
    }
   ],
   "source": [
    "dff=pd.DataFrame(df.groupby([\"Game\"]).mean())\n",
    "dff[\"Hours_watched\"].plot()\n"
   ]
  },
  {
   "cell_type": "code",
   "execution_count": 77,
   "id": "ae9da308",
   "metadata": {},
   "outputs": [
    {
     "data": {
      "text/plain": [
       "71"
      ]
     },
     "execution_count": 77,
     "metadata": {},
     "output_type": "execute_result"
    }
   ],
   "source": [
    "df[(df.Game == \"7 Days to Die\")][\"Game\"].count()"
   ]
  },
  {
   "cell_type": "code",
   "execution_count": 86,
   "id": "c36739d0",
   "metadata": {},
   "outputs": [],
   "source": [
    "train,test = train_test_split(df, test_size=0.25)"
   ]
  },
  {
   "cell_type": "code",
   "execution_count": 87,
   "id": "3309284a",
   "metadata": {},
   "outputs": [
    {
     "data": {
      "text/html": [
       "<div>\n",
       "<style scoped>\n",
       "    .dataframe tbody tr th:only-of-type {\n",
       "        vertical-align: middle;\n",
       "    }\n",
       "\n",
       "    .dataframe tbody tr th {\n",
       "        vertical-align: top;\n",
       "    }\n",
       "\n",
       "    .dataframe thead th {\n",
       "        text-align: right;\n",
       "    }\n",
       "</style>\n",
       "<table border=\"1\" class=\"dataframe\">\n",
       "  <thead>\n",
       "    <tr style=\"text-align: right;\">\n",
       "      <th></th>\n",
       "      <th>Rank</th>\n",
       "      <th>Game</th>\n",
       "      <th>Month</th>\n",
       "      <th>Year</th>\n",
       "      <th>Hours_watched</th>\n",
       "      <th>Hours_Streamed</th>\n",
       "      <th>Peak_viewers</th>\n",
       "      <th>Peak_channels</th>\n",
       "      <th>Streamers</th>\n",
       "      <th>Avg_viewers</th>\n",
       "      <th>Avg_channels</th>\n",
       "      <th>Avg_viewer_ratio</th>\n",
       "    </tr>\n",
       "  </thead>\n",
       "  <tbody>\n",
       "    <tr>\n",
       "      <th>7405</th>\n",
       "      <td>6</td>\n",
       "      <td>Counter-Strike: Global Offensive</td>\n",
       "      <td>2</td>\n",
       "      <td>2019</td>\n",
       "      <td>47256109</td>\n",
       "      <td>744851</td>\n",
       "      <td>524985</td>\n",
       "      <td>2575</td>\n",
       "      <td>120461</td>\n",
       "      <td>70426</td>\n",
       "      <td>1110</td>\n",
       "      <td>63.440000</td>\n",
       "    </tr>\n",
       "    <tr>\n",
       "      <th>8680</th>\n",
       "      <td>81</td>\n",
       "      <td>Dicey Dungeons</td>\n",
       "      <td>8</td>\n",
       "      <td>2019</td>\n",
       "      <td>898898</td>\n",
       "      <td>8639</td>\n",
       "      <td>36793</td>\n",
       "      <td>44</td>\n",
       "      <td>1796</td>\n",
       "      <td>1209</td>\n",
       "      <td>11</td>\n",
       "      <td>104.050000</td>\n",
       "    </tr>\n",
       "    <tr>\n",
       "      <th>4837</th>\n",
       "      <td>38</td>\n",
       "      <td>Dark Souls III</td>\n",
       "      <td>1</td>\n",
       "      <td>2018</td>\n",
       "      <td>2405618</td>\n",
       "      <td>126343</td>\n",
       "      <td>202405</td>\n",
       "      <td>302</td>\n",
       "      <td>20584</td>\n",
       "      <td>3237</td>\n",
       "      <td>170</td>\n",
       "      <td>19.040000</td>\n",
       "    </tr>\n",
       "    <tr>\n",
       "      <th>2755</th>\n",
       "      <td>156</td>\n",
       "      <td>Naruto Shippuden: Ultimate Ninja Storm 4</td>\n",
       "      <td>2</td>\n",
       "      <td>2017</td>\n",
       "      <td>199102</td>\n",
       "      <td>12397</td>\n",
       "      <td>19689</td>\n",
       "      <td>77</td>\n",
       "      <td>4036</td>\n",
       "      <td>296</td>\n",
       "      <td>18</td>\n",
       "      <td>16.060000</td>\n",
       "    </tr>\n",
       "    <tr>\n",
       "      <th>2871</th>\n",
       "      <td>72</td>\n",
       "      <td>Diablo III</td>\n",
       "      <td>3</td>\n",
       "      <td>2017</td>\n",
       "      <td>604830</td>\n",
       "      <td>50869</td>\n",
       "      <td>14851</td>\n",
       "      <td>1031</td>\n",
       "      <td>6745</td>\n",
       "      <td>814</td>\n",
       "      <td>68</td>\n",
       "      <td>11.890000</td>\n",
       "    </tr>\n",
       "  </tbody>\n",
       "</table>\n",
       "</div>"
      ],
      "text/plain": [
       "      Rank                                      Game  Month  Year  \\\n",
       "7405     6          Counter-Strike: Global Offensive      2  2019   \n",
       "8680    81                            Dicey Dungeons      8  2019   \n",
       "4837    38                            Dark Souls III      1  2018   \n",
       "2755   156  Naruto Shippuden: Ultimate Ninja Storm 4      2  2017   \n",
       "2871    72                                Diablo III      3  2017   \n",
       "\n",
       "      Hours_watched Hours_Streamed  Peak_viewers  Peak_channels  Streamers  \\\n",
       "7405       47256109         744851        524985           2575     120461   \n",
       "8680         898898           8639         36793             44       1796   \n",
       "4837        2405618         126343        202405            302      20584   \n",
       "2755         199102          12397         19689             77       4036   \n",
       "2871         604830          50869         14851           1031       6745   \n",
       "\n",
       "      Avg_viewers  Avg_channels  Avg_viewer_ratio  \n",
       "7405        70426          1110         63.440000  \n",
       "8680         1209            11        104.050000  \n",
       "4837         3237           170         19.040000  \n",
       "2755          296            18         16.060000  \n",
       "2871          814            68         11.890000  "
      ]
     },
     "execution_count": 87,
     "metadata": {},
     "output_type": "execute_result"
    }
   ],
   "source": [
    "train.head()"
   ]
  },
  {
   "cell_type": "code",
   "execution_count": 88,
   "id": "f95ff90f",
   "metadata": {},
   "outputs": [
    {
     "data": {
      "text/plain": [
       "(10649, 12)"
      ]
     },
     "execution_count": 88,
     "metadata": {},
     "output_type": "execute_result"
    }
   ],
   "source": [
    "train.shape"
   ]
  },
  {
   "cell_type": "code",
   "execution_count": 89,
   "id": "73ffd091",
   "metadata": {},
   "outputs": [
    {
     "data": {
      "text/html": [
       "<div>\n",
       "<style scoped>\n",
       "    .dataframe tbody tr th:only-of-type {\n",
       "        vertical-align: middle;\n",
       "    }\n",
       "\n",
       "    .dataframe tbody tr th {\n",
       "        vertical-align: top;\n",
       "    }\n",
       "\n",
       "    .dataframe thead th {\n",
       "        text-align: right;\n",
       "    }\n",
       "</style>\n",
       "<table border=\"1\" class=\"dataframe\">\n",
       "  <thead>\n",
       "    <tr style=\"text-align: right;\">\n",
       "      <th></th>\n",
       "      <th>Rank</th>\n",
       "      <th>Game</th>\n",
       "      <th>Month</th>\n",
       "      <th>Year</th>\n",
       "      <th>Hours_watched</th>\n",
       "      <th>Hours_Streamed</th>\n",
       "      <th>Peak_viewers</th>\n",
       "      <th>Peak_channels</th>\n",
       "      <th>Streamers</th>\n",
       "      <th>Avg_viewers</th>\n",
       "      <th>Avg_channels</th>\n",
       "      <th>Avg_viewer_ratio</th>\n",
       "    </tr>\n",
       "  </thead>\n",
       "  <tbody>\n",
       "    <tr>\n",
       "      <th>2848</th>\n",
       "      <td>49</td>\n",
       "      <td>Blackwake</td>\n",
       "      <td>3</td>\n",
       "      <td>2017</td>\n",
       "      <td>1091990</td>\n",
       "      <td>19923</td>\n",
       "      <td>38978</td>\n",
       "      <td>117</td>\n",
       "      <td>3852</td>\n",
       "      <td>1469</td>\n",
       "      <td>26</td>\n",
       "      <td>54.810000</td>\n",
       "    </tr>\n",
       "    <tr>\n",
       "      <th>11962</th>\n",
       "      <td>163</td>\n",
       "      <td>Conqueror's Blade</td>\n",
       "      <td>12</td>\n",
       "      <td>2020</td>\n",
       "      <td>797975</td>\n",
       "      <td>30474</td>\n",
       "      <td>47589</td>\n",
       "      <td>101</td>\n",
       "      <td>1815</td>\n",
       "      <td>1073</td>\n",
       "      <td>41</td>\n",
       "      <td>26.190000</td>\n",
       "    </tr>\n",
       "    <tr>\n",
       "      <th>3704</th>\n",
       "      <td>105</td>\n",
       "      <td>Bloodborne</td>\n",
       "      <td>7</td>\n",
       "      <td>2017</td>\n",
       "      <td>447184</td>\n",
       "      <td>34436</td>\n",
       "      <td>5038</td>\n",
       "      <td>92</td>\n",
       "      <td>6250</td>\n",
       "      <td>601</td>\n",
       "      <td>46</td>\n",
       "      <td>12.990000</td>\n",
       "    </tr>\n",
       "    <tr>\n",
       "      <th>11297</th>\n",
       "      <td>98</td>\n",
       "      <td>ARK: Survival Evolved</td>\n",
       "      <td>9</td>\n",
       "      <td>2020</td>\n",
       "      <td>1422325</td>\n",
       "      <td>201038</td>\n",
       "      <td>5353</td>\n",
       "      <td>482</td>\n",
       "      <td>13425</td>\n",
       "      <td>1978</td>\n",
       "      <td>279</td>\n",
       "      <td>7.070000</td>\n",
       "    </tr>\n",
       "    <tr>\n",
       "      <th>1580</th>\n",
       "      <td>181</td>\n",
       "      <td>Planet Coaster</td>\n",
       "      <td>8</td>\n",
       "      <td>2016</td>\n",
       "      <td>125993</td>\n",
       "      <td>2057</td>\n",
       "      <td>33236</td>\n",
       "      <td>35</td>\n",
       "      <td>315</td>\n",
       "      <td>169</td>\n",
       "      <td>2</td>\n",
       "      <td>61.250000</td>\n",
       "    </tr>\n",
       "  </tbody>\n",
       "</table>\n",
       "</div>"
      ],
      "text/plain": [
       "       Rank                   Game  Month  Year  Hours_watched Hours_Streamed  \\\n",
       "2848     49              Blackwake      3  2017        1091990          19923   \n",
       "11962   163      Conqueror's Blade     12  2020         797975          30474   \n",
       "3704    105             Bloodborne      7  2017         447184          34436   \n",
       "11297    98  ARK: Survival Evolved      9  2020        1422325         201038   \n",
       "1580    181         Planet Coaster      8  2016         125993           2057   \n",
       "\n",
       "       Peak_viewers  Peak_channels  Streamers  Avg_viewers  Avg_channels  \\\n",
       "2848          38978            117       3852         1469            26   \n",
       "11962         47589            101       1815         1073            41   \n",
       "3704           5038             92       6250          601            46   \n",
       "11297          5353            482      13425         1978           279   \n",
       "1580          33236             35        315          169             2   \n",
       "\n",
       "       Avg_viewer_ratio  \n",
       "2848          54.810000  \n",
       "11962         26.190000  \n",
       "3704          12.990000  \n",
       "11297          7.070000  \n",
       "1580          61.250000  "
      ]
     },
     "execution_count": 89,
     "metadata": {},
     "output_type": "execute_result"
    }
   ],
   "source": [
    "test.head()"
   ]
  },
  {
   "cell_type": "code",
   "execution_count": 90,
   "id": "012ccecb",
   "metadata": {},
   "outputs": [
    {
     "data": {
      "text/plain": [
       "(3550, 12)"
      ]
     },
     "execution_count": 90,
     "metadata": {},
     "output_type": "execute_result"
    }
   ],
   "source": [
    "test.shape"
   ]
  },
  {
   "cell_type": "markdown",
   "id": "752f13bf",
   "metadata": {},
   "source": [
    "reg=linear_model.LinearRegression(normalize=True)\n",
    "reg.fit(train[[\"Streamers\"]],train[[\"Hours_watched\"]])"
   ]
  },
  {
   "cell_type": "code",
   "execution_count": 91,
   "id": "5c500528",
   "metadata": {},
   "outputs": [
    {
     "data": {
      "text/html": [
       "<style>#sk-container-id-4 {color: black;background-color: white;}#sk-container-id-4 pre{padding: 0;}#sk-container-id-4 div.sk-toggleable {background-color: white;}#sk-container-id-4 label.sk-toggleable__label {cursor: pointer;display: block;width: 100%;margin-bottom: 0;padding: 0.3em;box-sizing: border-box;text-align: center;}#sk-container-id-4 label.sk-toggleable__label-arrow:before {content: \"▸\";float: left;margin-right: 0.25em;color: #696969;}#sk-container-id-4 label.sk-toggleable__label-arrow:hover:before {color: black;}#sk-container-id-4 div.sk-estimator:hover label.sk-toggleable__label-arrow:before {color: black;}#sk-container-id-4 div.sk-toggleable__content {max-height: 0;max-width: 0;overflow: hidden;text-align: left;background-color: #f0f8ff;}#sk-container-id-4 div.sk-toggleable__content pre {margin: 0.2em;color: black;border-radius: 0.25em;background-color: #f0f8ff;}#sk-container-id-4 input.sk-toggleable__control:checked~div.sk-toggleable__content {max-height: 200px;max-width: 100%;overflow: auto;}#sk-container-id-4 input.sk-toggleable__control:checked~label.sk-toggleable__label-arrow:before {content: \"▾\";}#sk-container-id-4 div.sk-estimator input.sk-toggleable__control:checked~label.sk-toggleable__label {background-color: #d4ebff;}#sk-container-id-4 div.sk-label input.sk-toggleable__control:checked~label.sk-toggleable__label {background-color: #d4ebff;}#sk-container-id-4 input.sk-hidden--visually {border: 0;clip: rect(1px 1px 1px 1px);clip: rect(1px, 1px, 1px, 1px);height: 1px;margin: -1px;overflow: hidden;padding: 0;position: absolute;width: 1px;}#sk-container-id-4 div.sk-estimator {font-family: monospace;background-color: #f0f8ff;border: 1px dotted black;border-radius: 0.25em;box-sizing: border-box;margin-bottom: 0.5em;}#sk-container-id-4 div.sk-estimator:hover {background-color: #d4ebff;}#sk-container-id-4 div.sk-parallel-item::after {content: \"\";width: 100%;border-bottom: 1px solid gray;flex-grow: 1;}#sk-container-id-4 div.sk-label:hover label.sk-toggleable__label {background-color: #d4ebff;}#sk-container-id-4 div.sk-serial::before {content: \"\";position: absolute;border-left: 1px solid gray;box-sizing: border-box;top: 0;bottom: 0;left: 50%;z-index: 0;}#sk-container-id-4 div.sk-serial {display: flex;flex-direction: column;align-items: center;background-color: white;padding-right: 0.2em;padding-left: 0.2em;position: relative;}#sk-container-id-4 div.sk-item {position: relative;z-index: 1;}#sk-container-id-4 div.sk-parallel {display: flex;align-items: stretch;justify-content: center;background-color: white;position: relative;}#sk-container-id-4 div.sk-item::before, #sk-container-id-4 div.sk-parallel-item::before {content: \"\";position: absolute;border-left: 1px solid gray;box-sizing: border-box;top: 0;bottom: 0;left: 50%;z-index: -1;}#sk-container-id-4 div.sk-parallel-item {display: flex;flex-direction: column;z-index: 1;position: relative;background-color: white;}#sk-container-id-4 div.sk-parallel-item:first-child::after {align-self: flex-end;width: 50%;}#sk-container-id-4 div.sk-parallel-item:last-child::after {align-self: flex-start;width: 50%;}#sk-container-id-4 div.sk-parallel-item:only-child::after {width: 0;}#sk-container-id-4 div.sk-dashed-wrapped {border: 1px dashed gray;margin: 0 0.4em 0.5em 0.4em;box-sizing: border-box;padding-bottom: 0.4em;background-color: white;}#sk-container-id-4 div.sk-label label {font-family: monospace;font-weight: bold;display: inline-block;line-height: 1.2em;}#sk-container-id-4 div.sk-label-container {text-align: center;}#sk-container-id-4 div.sk-container {/* jupyter's `normalize.less` sets `[hidden] { display: none; }` but bootstrap.min.css set `[hidden] { display: none !important; }` so we also need the `!important` here to be able to override the default hidden behavior on the sphinx rendered scikit-learn.org. See: https://github.com/scikit-learn/scikit-learn/issues/21755 */display: inline-block !important;position: relative;}#sk-container-id-4 div.sk-text-repr-fallback {display: none;}</style><div id=\"sk-container-id-4\" class=\"sk-top-container\"><div class=\"sk-text-repr-fallback\"><pre>LinearRegression()</pre><b>In a Jupyter environment, please rerun this cell to show the HTML representation or trust the notebook. <br />On GitHub, the HTML representation is unable to render, please try loading this page with nbviewer.org.</b></div><div class=\"sk-container\" hidden><div class=\"sk-item\"><div class=\"sk-estimator sk-toggleable\"><input class=\"sk-toggleable__control sk-hidden--visually\" id=\"sk-estimator-id-4\" type=\"checkbox\" checked><label for=\"sk-estimator-id-4\" class=\"sk-toggleable__label sk-toggleable__label-arrow\">LinearRegression</label><div class=\"sk-toggleable__content\"><pre>LinearRegression()</pre></div></div></div></div></div>"
      ],
      "text/plain": [
       "LinearRegression()"
      ]
     },
     "execution_count": 91,
     "metadata": {},
     "output_type": "execute_result"
    }
   ],
   "source": [
    "from sklearn.preprocessing import StandardScaler\n",
    "\n",
    "scaler = StandardScaler()\n",
    "scaled_train = scaler.fit_transform(train[[\"Streamers\"]])\n",
    "\n",
    "reg = linear_model.LinearRegression()\n",
    "reg.fit(scaled_train, train[[\"Hours_watched\"]])\n"
   ]
  },
  {
   "cell_type": "code",
   "execution_count": 92,
   "id": "1eec0d97",
   "metadata": {},
   "outputs": [
    {
     "name": "stderr",
     "output_type": "stream",
     "text": [
      "C:\\Users\\Elif\\AppData\\Local\\Programs\\Python\\Python310\\lib\\site-packages\\sklearn\\base.py:402: UserWarning: X has feature names, but LinearRegression was fitted without feature names\n",
      "  delattr(self, \"feature_names_in_\")\n"
     ]
    },
    {
     "data": {
      "text/plain": [
       "array([[4.92619454e+10],\n",
       "       [2.32139685e+10],\n",
       "       [7.99261812e+10],\n",
       "       ...,\n",
       "       [1.41446464e+11],\n",
       "       [1.19234714e+11],\n",
       "       [2.79069521e+10]])"
      ]
     },
     "execution_count": 92,
     "metadata": {},
     "output_type": "execute_result"
    }
   ],
   "source": [
    "reg.predict(test[[\"Streamers\"]])"
   ]
  },
  {
   "cell_type": "code",
   "execution_count": 97,
   "id": "7f1ec8cf",
   "metadata": {},
   "outputs": [
    {
     "data": {
      "image/png": "[encoded data removed]",
      "text/plain": [
       "<Figure size 640x480 with 1 Axes>"
      ]
     },
     "metadata": {},
     "output_type": "display_data"
    }
   ],
   "source": [
    "import matplotlib.pyplot as plt\n",
    "\n",
    "plt.scatter(x=train[[\"Hours_watched\"]], y=scaled_train, c=\"purple\", alpha=0.4, s=100)\n",
    "plt.show()"
   ]
  },
  {
   "cell_type": "code",
   "execution_count": 98,
   "id": "27c3e7ac",
   "metadata": {},
   "outputs": [
    {
     "name": "stderr",
     "output_type": "stream",
     "text": [
      "C:\\Users\\Elif\\AppData\\Local\\Temp\\ipykernel_1488\\1134722465.py:1: FutureWarning: The default value of numeric_only in DataFrame.corr is deprecated. In a future version, it will default to False. Select only valid columns or specify the value of numeric_only to silence this warning.\n",
      "  df.corr()\n"
     ]
    },
    {
     "data": {
      "text/html": [
       "<div>\n",
       "<style scoped>\n",
       "    .dataframe tbody tr th:only-of-type {\n",
       "        vertical-align: middle;\n",
       "    }\n",
       "\n",
       "    .dataframe tbody tr th {\n",
       "        vertical-align: top;\n",
       "    }\n",
       "\n",
       "    .dataframe thead th {\n",
       "        text-align: right;\n",
       "    }\n",
       "</style>\n",
       "<table border=\"1\" class=\"dataframe\">\n",
       "  <thead>\n",
       "    <tr style=\"text-align: right;\">\n",
       "      <th></th>\n",
       "      <th>Rank</th>\n",
       "      <th>Month</th>\n",
       "      <th>Year</th>\n",
       "      <th>Hours_watched</th>\n",
       "      <th>Peak_viewers</th>\n",
       "      <th>Peak_channels</th>\n",
       "      <th>Streamers</th>\n",
       "      <th>Avg_viewers</th>\n",
       "      <th>Avg_channels</th>\n",
       "      <th>Avg_viewer_ratio</th>\n",
       "    </tr>\n",
       "  </thead>\n",
       "  <tbody>\n",
       "    <tr>\n",
       "      <th>Rank</th>\n",
       "      <td>1.000000</td>\n",
       "      <td>0.000097</td>\n",
       "      <td>-0.000024</td>\n",
       "      <td>-0.390575</td>\n",
       "      <td>-0.349157</td>\n",
       "      <td>-0.262927</td>\n",
       "      <td>-0.366517</td>\n",
       "      <td>-0.390540</td>\n",
       "      <td>-0.356438</td>\n",
       "      <td>0.069142</td>\n",
       "    </tr>\n",
       "    <tr>\n",
       "      <th>Month</th>\n",
       "      <td>0.000097</td>\n",
       "      <td>1.000000</td>\n",
       "      <td>-0.033942</td>\n",
       "      <td>0.003300</td>\n",
       "      <td>0.001239</td>\n",
       "      <td>0.014806</td>\n",
       "      <td>-0.002439</td>\n",
       "      <td>0.001591</td>\n",
       "      <td>-0.000169</td>\n",
       "      <td>-0.037627</td>\n",
       "    </tr>\n",
       "    <tr>\n",
       "      <th>Year</th>\n",
       "      <td>-0.000024</td>\n",
       "      <td>-0.033942</td>\n",
       "      <td>1.000000</td>\n",
       "      <td>0.145643</td>\n",
       "      <td>0.153407</td>\n",
       "      <td>0.124118</td>\n",
       "      <td>0.137188</td>\n",
       "      <td>0.145824</td>\n",
       "      <td>0.162934</td>\n",
       "      <td>-0.062422</td>\n",
       "    </tr>\n",
       "    <tr>\n",
       "      <th>Hours_watched</th>\n",
       "      <td>-0.390575</td>\n",
       "      <td>0.003300</td>\n",
       "      <td>0.145643</td>\n",
       "      <td>1.000000</td>\n",
       "      <td>0.714579</td>\n",
       "      <td>0.525957</td>\n",
       "      <td>0.752494</td>\n",
       "      <td>0.999618</td>\n",
       "      <td>0.759460</td>\n",
       "      <td>-0.017882</td>\n",
       "    </tr>\n",
       "    <tr>\n",
       "      <th>Peak_viewers</th>\n",
       "      <td>-0.349157</td>\n",
       "      <td>0.001239</td>\n",
       "      <td>0.153407</td>\n",
       "      <td>0.714579</td>\n",
       "      <td>1.000000</td>\n",
       "      <td>0.532727</td>\n",
       "      <td>0.568395</td>\n",
       "      <td>0.713820</td>\n",
       "      <td>0.564185</td>\n",
       "      <td>0.058868</td>\n",
       "    </tr>\n",
       "    <tr>\n",
       "      <th>Peak_channels</th>\n",
       "      <td>-0.262927</td>\n",
       "      <td>0.014806</td>\n",
       "      <td>0.124118</td>\n",
       "      <td>0.525957</td>\n",
       "      <td>0.532727</td>\n",
       "      <td>1.000000</td>\n",
       "      <td>0.746240</td>\n",
       "      <td>0.526377</td>\n",
       "      <td>0.784443</td>\n",
       "      <td>-0.028872</td>\n",
       "    </tr>\n",
       "    <tr>\n",
       "      <th>Streamers</th>\n",
       "      <td>-0.366517</td>\n",
       "      <td>-0.002439</td>\n",
       "      <td>0.137188</td>\n",
       "      <td>0.752494</td>\n",
       "      <td>0.568395</td>\n",
       "      <td>0.746240</td>\n",
       "      <td>1.000000</td>\n",
       "      <td>0.752319</td>\n",
       "      <td>0.961246</td>\n",
       "      <td>-0.043858</td>\n",
       "    </tr>\n",
       "    <tr>\n",
       "      <th>Avg_viewers</th>\n",
       "      <td>-0.390540</td>\n",
       "      <td>0.001591</td>\n",
       "      <td>0.145824</td>\n",
       "      <td>0.999618</td>\n",
       "      <td>0.713820</td>\n",
       "      <td>0.526377</td>\n",
       "      <td>0.752319</td>\n",
       "      <td>1.000000</td>\n",
       "      <td>0.759666</td>\n",
       "      <td>-0.017910</td>\n",
       "    </tr>\n",
       "    <tr>\n",
       "      <th>Avg_channels</th>\n",
       "      <td>-0.356438</td>\n",
       "      <td>-0.000169</td>\n",
       "      <td>0.162934</td>\n",
       "      <td>0.759460</td>\n",
       "      <td>0.564185</td>\n",
       "      <td>0.784443</td>\n",
       "      <td>0.961246</td>\n",
       "      <td>0.759666</td>\n",
       "      <td>1.000000</td>\n",
       "      <td>-0.040135</td>\n",
       "    </tr>\n",
       "    <tr>\n",
       "      <th>Avg_viewer_ratio</th>\n",
       "      <td>0.069142</td>\n",
       "      <td>-0.037627</td>\n",
       "      <td>-0.062422</td>\n",
       "      <td>-0.017882</td>\n",
       "      <td>0.058868</td>\n",
       "      <td>-0.028872</td>\n",
       "      <td>-0.043858</td>\n",
       "      <td>-0.017910</td>\n",
       "      <td>-0.040135</td>\n",
       "      <td>1.000000</td>\n",
       "    </tr>\n",
       "  </tbody>\n",
       "</table>\n",
       "</div>"
      ],
      "text/plain": [
       "                      Rank     Month      Year  Hours_watched  Peak_viewers  \\\n",
       "Rank              1.000000  0.000097 -0.000024      -0.390575     -0.349157   \n",
       "Month             0.000097  1.000000 -0.033942       0.003300      0.001239   \n",
       "Year             -0.000024 -0.033942  1.000000       0.145643      0.153407   \n",
       "Hours_watched    -0.390575  0.003300  0.145643       1.000000      0.714579   \n",
       "Peak_viewers     -0.349157  0.001239  0.153407       0.714579      1.000000   \n",
       "Peak_channels    -0.262927  0.014806  0.124118       0.525957      0.532727   \n",
       "Streamers        -0.366517 -0.002439  0.137188       0.752494      0.568395   \n",
       "Avg_viewers      -0.390540  0.001591  0.145824       0.999618      0.713820   \n",
       "Avg_channels     -0.356438 -0.000169  0.162934       0.759460      0.564185   \n",
       "Avg_viewer_ratio  0.069142 -0.037627 -0.062422      -0.017882      0.058868   \n",
       "\n",
       "                  Peak_channels  Streamers  Avg_viewers  Avg_channels  \\\n",
       "Rank                  -0.262927  -0.366517    -0.390540     -0.356438   \n",
       "Month                  0.014806  -0.002439     0.001591     -0.000169   \n",
       "Year                   0.124118   0.137188     0.145824      0.162934   \n",
       "Hours_watched          0.525957   0.752494     0.999618      0.759460   \n",
       "Peak_viewers           0.532727   0.568395     0.713820      0.564185   \n",
       "Peak_channels          1.000000   0.746240     0.526377      0.784443   \n",
       "Streamers              0.746240   1.000000     0.752319      0.961246   \n",
       "Avg_viewers            0.526377   0.752319     1.000000      0.759666   \n",
       "Avg_channels           0.784443   0.961246     0.759666      1.000000   \n",
       "Avg_viewer_ratio      -0.028872  -0.043858    -0.017910     -0.040135   \n",
       "\n",
       "                  Avg_viewer_ratio  \n",
       "Rank                      0.069142  \n",
       "Month                    -0.037627  \n",
       "Year                     -0.062422  \n",
       "Hours_watched            -0.017882  \n",
       "Peak_viewers              0.058868  \n",
       "Peak_channels            -0.028872  \n",
       "Streamers                -0.043858  \n",
       "Avg_viewers              -0.017910  \n",
       "Avg_channels             -0.040135  \n",
       "Avg_viewer_ratio          1.000000  "
      ]
     },
     "execution_count": 98,
     "metadata": {},
     "output_type": "execute_result"
    }
   ],
   "source": [
    "df.corr()"
   ]
  },
  {
   "cell_type": "code",
   "execution_count": 99,
   "id": "58460cca",
   "metadata": {},
   "outputs": [
    {
     "data": {
      "text/html": [
       "<div>\n",
       "<style scoped>\n",
       "    .dataframe tbody tr th:only-of-type {\n",
       "        vertical-align: middle;\n",
       "    }\n",
       "\n",
       "    .dataframe tbody tr th {\n",
       "        vertical-align: top;\n",
       "    }\n",
       "\n",
       "    .dataframe thead th {\n",
       "        text-align: right;\n",
       "    }\n",
       "</style>\n",
       "<table border=\"1\" class=\"dataframe\">\n",
       "  <thead>\n",
       "    <tr style=\"text-align: right;\">\n",
       "      <th></th>\n",
       "      <th>Streamers</th>\n",
       "    </tr>\n",
       "  </thead>\n",
       "  <tbody>\n",
       "    <tr>\n",
       "      <th>0</th>\n",
       "      <td>129172</td>\n",
       "    </tr>\n",
       "    <tr>\n",
       "      <th>1</th>\n",
       "      <td>120849</td>\n",
       "    </tr>\n",
       "    <tr>\n",
       "      <th>2</th>\n",
       "      <td>44074</td>\n",
       "    </tr>\n",
       "    <tr>\n",
       "      <th>3</th>\n",
       "      <td>36170</td>\n",
       "    </tr>\n",
       "    <tr>\n",
       "      <th>4</th>\n",
       "      <td>214054</td>\n",
       "    </tr>\n",
       "    <tr>\n",
       "      <th>...</th>\n",
       "      <td>...</td>\n",
       "    </tr>\n",
       "    <tr>\n",
       "      <th>14195</th>\n",
       "      <td>6374</td>\n",
       "    </tr>\n",
       "    <tr>\n",
       "      <th>14196</th>\n",
       "      <td>1273</td>\n",
       "    </tr>\n",
       "    <tr>\n",
       "      <th>14197</th>\n",
       "      <td>6686</td>\n",
       "    </tr>\n",
       "    <tr>\n",
       "      <th>14198</th>\n",
       "      <td>1716</td>\n",
       "    </tr>\n",
       "    <tr>\n",
       "      <th>14199</th>\n",
       "      <td>1152</td>\n",
       "    </tr>\n",
       "  </tbody>\n",
       "</table>\n",
       "<p>14199 rows × 1 columns</p>\n",
       "</div>"
      ],
      "text/plain": [
       "       Streamers\n",
       "0         129172\n",
       "1         120849\n",
       "2          44074\n",
       "3          36170\n",
       "4         214054\n",
       "...          ...\n",
       "14195       6374\n",
       "14196       1273\n",
       "14197       6686\n",
       "14198       1716\n",
       "14199       1152\n",
       "\n",
       "[14199 rows x 1 columns]"
      ]
     },
     "execution_count": 99,
     "metadata": {},
     "output_type": "execute_result"
    }
   ],
   "source": [
    "y = df.iloc[:,8:9]\n",
    "y"
   ]
  },
  {
   "cell_type": "code",
   "execution_count": 102,
   "id": "fe5ac84a",
   "metadata": {},
   "outputs": [
    {
     "data": {
      "text/html": [
       "<div>\n",
       "<style scoped>\n",
       "    .dataframe tbody tr th:only-of-type {\n",
       "        vertical-align: middle;\n",
       "    }\n",
       "\n",
       "    .dataframe tbody tr th {\n",
       "        vertical-align: top;\n",
       "    }\n",
       "\n",
       "    .dataframe thead th {\n",
       "        text-align: right;\n",
       "    }\n",
       "</style>\n",
       "<table border=\"1\" class=\"dataframe\">\n",
       "  <thead>\n",
       "    <tr style=\"text-align: right;\">\n",
       "      <th></th>\n",
       "      <th>Hours_watched</th>\n",
       "    </tr>\n",
       "  </thead>\n",
       "  <tbody>\n",
       "    <tr>\n",
       "      <th>0</th>\n",
       "      <td>94377226</td>\n",
       "    </tr>\n",
       "    <tr>\n",
       "      <th>1</th>\n",
       "      <td>47832863</td>\n",
       "    </tr>\n",
       "    <tr>\n",
       "      <th>2</th>\n",
       "      <td>45185893</td>\n",
       "    </tr>\n",
       "    <tr>\n",
       "      <th>3</th>\n",
       "      <td>39936159</td>\n",
       "    </tr>\n",
       "    <tr>\n",
       "      <th>4</th>\n",
       "      <td>16153057</td>\n",
       "    </tr>\n",
       "    <tr>\n",
       "      <th>...</th>\n",
       "      <td>...</td>\n",
       "    </tr>\n",
       "    <tr>\n",
       "      <th>14195</th>\n",
       "      <td>645300</td>\n",
       "    </tr>\n",
       "    <tr>\n",
       "      <th>14196</th>\n",
       "      <td>645248</td>\n",
       "    </tr>\n",
       "    <tr>\n",
       "      <th>14197</th>\n",
       "      <td>635375</td>\n",
       "    </tr>\n",
       "    <tr>\n",
       "      <th>14198</th>\n",
       "      <td>617396</td>\n",
       "    </tr>\n",
       "    <tr>\n",
       "      <th>14199</th>\n",
       "      <td>607581</td>\n",
       "    </tr>\n",
       "  </tbody>\n",
       "</table>\n",
       "<p>14199 rows × 1 columns</p>\n",
       "</div>"
      ],
      "text/plain": [
       "       Hours_watched\n",
       "0           94377226\n",
       "1           47832863\n",
       "2           45185893\n",
       "3           39936159\n",
       "4           16153057\n",
       "...              ...\n",
       "14195         645300\n",
       "14196         645248\n",
       "14197         635375\n",
       "14198         617396\n",
       "14199         607581\n",
       "\n",
       "[14199 rows x 1 columns]"
      ]
     },
     "execution_count": 102,
     "metadata": {},
     "output_type": "execute_result"
    }
   ],
   "source": [
    "X = df.iloc[:,4:5]\n",
    "X"
   ]
  },
  {
   "cell_type": "code",
   "execution_count": 101,
   "id": "e426f8d0",
   "metadata": {},
   "outputs": [
    {
     "ename": "TypeError",
     "evalue": "expected 1D vector for x",
     "output_type": "error",
     "traceback": [
      "\u001b[1;31m---------------------------------------------------------------------------\u001b[0m",
      "\u001b[1;31mTypeError\u001b[0m                                 Traceback (most recent call last)",
      "Cell \u001b[1;32mIn[101], line 13\u001b[0m\n\u001b[0;32m     10\u001b[0m y_pred_test \u001b[38;5;241m=\u001b[39m model\u001b[38;5;241m.\u001b[39mpredict(X_test)\n\u001b[0;32m     11\u001b[0m plt\u001b[38;5;241m.\u001b[39mscatter(x\u001b[38;5;241m=\u001b[39my_train, y\u001b[38;5;241m=\u001b[39my_pred_train, c\u001b[38;5;241m=\u001b[39m\u001b[38;5;124m\"\u001b[39m\u001b[38;5;124mblack\u001b[39m\u001b[38;5;124m\"\u001b[39m, alpha\u001b[38;5;241m=\u001b[39m\u001b[38;5;241m0.4\u001b[39m)\n\u001b[1;32m---> 13\u001b[0m a \u001b[38;5;241m=\u001b[39m \u001b[43mnp\u001b[49m\u001b[38;5;241;43m.\u001b[39;49m\u001b[43mpolyfit\u001b[49m\u001b[43m(\u001b[49m\u001b[43my_train\u001b[49m\u001b[43m,\u001b[49m\u001b[43m \u001b[49m\u001b[43my_pred_train\u001b[49m\u001b[43m,\u001b[49m\u001b[43m \u001b[49m\u001b[38;5;241;43m1\u001b[39;49m\u001b[43m)\u001b[49m\n\u001b[0;32m     14\u001b[0m p \u001b[38;5;241m=\u001b[39m np\u001b[38;5;241m.\u001b[39mpoly1d(a)\n\u001b[0;32m     15\u001b[0m plt\u001b[38;5;241m.\u001b[39mplot(y_test,p(y_test),\u001b[38;5;124m\"\u001b[39m\u001b[38;5;124mred\u001b[39m\u001b[38;5;124m\"\u001b[39m)\n",
      "File \u001b[1;32m<__array_function__ internals>:180\u001b[0m, in \u001b[0;36mpolyfit\u001b[1;34m(*args, **kwargs)\u001b[0m\n",
      "File \u001b[1;32m~\\AppData\\Local\\Programs\\Python\\Python310\\lib\\site-packages\\numpy\\lib\\polynomial.py:636\u001b[0m, in \u001b[0;36mpolyfit\u001b[1;34m(x, y, deg, rcond, full, w, cov)\u001b[0m\n\u001b[0;32m    634\u001b[0m     \u001b[38;5;28;01mraise\u001b[39;00m \u001b[38;5;167;01mValueError\u001b[39;00m(\u001b[38;5;124m\"\u001b[39m\u001b[38;5;124mexpected deg >= 0\u001b[39m\u001b[38;5;124m\"\u001b[39m)\n\u001b[0;32m    635\u001b[0m \u001b[38;5;28;01mif\u001b[39;00m x\u001b[38;5;241m.\u001b[39mndim \u001b[38;5;241m!=\u001b[39m \u001b[38;5;241m1\u001b[39m:\n\u001b[1;32m--> 636\u001b[0m     \u001b[38;5;28;01mraise\u001b[39;00m \u001b[38;5;167;01mTypeError\u001b[39;00m(\u001b[38;5;124m\"\u001b[39m\u001b[38;5;124mexpected 1D vector for x\u001b[39m\u001b[38;5;124m\"\u001b[39m)\n\u001b[0;32m    637\u001b[0m \u001b[38;5;28;01mif\u001b[39;00m x\u001b[38;5;241m.\u001b[39msize \u001b[38;5;241m==\u001b[39m \u001b[38;5;241m0\u001b[39m:\n\u001b[0;32m    638\u001b[0m     \u001b[38;5;28;01mraise\u001b[39;00m \u001b[38;5;167;01mTypeError\u001b[39;00m(\u001b[38;5;124m\"\u001b[39m\u001b[38;5;124mexpected non-empty vector for x\u001b[39m\u001b[38;5;124m\"\u001b[39m)\n",
      "\u001b[1;31mTypeError\u001b[0m: expected 1D vector for x"
     ]
    },
    {
     "data": {
      "image/png": "[encoded data removed]",
      "text/plain": [
       "<Figure size 640x480 with 1 Axes>"
      ]
     },
     "metadata": {},
     "output_type": "display_data"
    }
   ],
   "source": [
    "from sklearn.model_selection import train_test_split\n",
    "from sklearn import linear_model\n",
    "\n",
    "y = df.iloc[:,8:9]\n",
    "X = df.iloc[:,4:5]\n",
    "X_train, X_test, y_train, y_test = train_test_split(X, y, test_size = 0.1)\n",
    "model = linear_model.LinearRegression()\n",
    "model.fit(X_train, y_train)\n",
    "y_pred_train = model.predict(X_train)\n",
    "y_pred_test = model.predict(X_test)\n",
    "plt.scatter(x=y_train, y=y_pred_train, c=\"black\", alpha=0.4)\n",
    "\n",
    "a = np.polyfit(y_train, y_pred_train, 1)\n",
    "p = np.poly1d(a)\n",
    "plt.plot(y_test,p(y_test),\"red\")\n",
    "plt.xlabel('Correct Value')\n",
    "plt.ylabel('Prediction')\n",
    "plt.show()"
   ]
  },
  {
   "cell_type": "code",
   "execution_count": 103,
   "id": "ae7942c2",
   "metadata": {},
   "outputs": [
    {
     "data": {
      "text/html": [
       "<div>\n",
       "<style scoped>\n",
       "    .dataframe tbody tr th:only-of-type {\n",
       "        vertical-align: middle;\n",
       "    }\n",
       "\n",
       "    .dataframe tbody tr th {\n",
       "        vertical-align: top;\n",
       "    }\n",
       "\n",
       "    .dataframe thead th {\n",
       "        text-align: right;\n",
       "    }\n",
       "</style>\n",
       "<table border=\"1\" class=\"dataframe\">\n",
       "  <thead>\n",
       "    <tr style=\"text-align: right;\">\n",
       "      <th></th>\n",
       "      <th>Hours_watched</th>\n",
       "    </tr>\n",
       "  </thead>\n",
       "  <tbody>\n",
       "    <tr>\n",
       "      <th>0</th>\n",
       "      <td>94377226</td>\n",
       "    </tr>\n",
       "    <tr>\n",
       "      <th>1</th>\n",
       "      <td>47832863</td>\n",
       "    </tr>\n",
       "    <tr>\n",
       "      <th>2</th>\n",
       "      <td>45185893</td>\n",
       "    </tr>\n",
       "    <tr>\n",
       "      <th>3</th>\n",
       "      <td>39936159</td>\n",
       "    </tr>\n",
       "    <tr>\n",
       "      <th>4</th>\n",
       "      <td>16153057</td>\n",
       "    </tr>\n",
       "  </tbody>\n",
       "</table>\n",
       "</div>"
      ],
      "text/plain": [
       "   Hours_watched\n",
       "0       94377226\n",
       "1       47832863\n",
       "2       45185893\n",
       "3       39936159\n",
       "4       16153057"
      ]
     },
     "execution_count": 103,
     "metadata": {},
     "output_type": "execute_result"
    }
   ],
   "source": [
    "X=df[[\"Hours_watched\"]]\n",
    "\n",
    "X.head()"
   ]
  },
  {
   "cell_type": "code",
   "execution_count": 104,
   "id": "76d0f360",
   "metadata": {},
   "outputs": [
    {
     "data": {
      "text/plain": [
       "0        129172\n",
       "1        120849\n",
       "2         44074\n",
       "3         36170\n",
       "4        214054\n",
       "          ...  \n",
       "14195      6374\n",
       "14196      1273\n",
       "14197      6686\n",
       "14198      1716\n",
       "14199      1152\n",
       "Name: Streamers, Length: 14199, dtype: int64"
      ]
     },
     "execution_count": 104,
     "metadata": {},
     "output_type": "execute_result"
    }
   ],
   "source": [
    "y=df[\"Streamers\"]\n",
    "y"
   ]
  },
  {
   "cell_type": "code",
   "execution_count": 105,
   "id": "bbe853c9",
   "metadata": {},
   "outputs": [],
   "source": [
    "X_train,X_test,y_train,y_test = train_test_split(X,y,test_size=0.2,random_state=1)"
   ]
  },
  {
   "cell_type": "code",
   "execution_count": 106,
   "id": "deb7376e",
   "metadata": {},
   "outputs": [
    {
     "data": {
      "text/plain": [
       "(11359, 1)"
      ]
     },
     "execution_count": 106,
     "metadata": {},
     "output_type": "execute_result"
    }
   ],
   "source": [
    "X_train.shape"
   ]
  },
  {
   "cell_type": "code",
   "execution_count": 107,
   "id": "fa30f00f",
   "metadata": {},
   "outputs": [
    {
     "data": {
      "text/plain": [
       "(11359,)"
      ]
     },
     "execution_count": 107,
     "metadata": {},
     "output_type": "execute_result"
    }
   ],
   "source": [
    "y_train.shape"
   ]
  },
  {
   "cell_type": "code",
   "execution_count": 108,
   "id": "41ef0d08",
   "metadata": {},
   "outputs": [
    {
     "data": {
      "text/plain": [
       "array([0.00259158])"
      ]
     },
     "execution_count": 108,
     "metadata": {},
     "output_type": "execute_result"
    }
   ],
   "source": [
    "linreg=LinearRegression().fit(X_train,y_train)\n",
    "linreg.coef_"
   ]
  },
  {
   "cell_type": "code",
   "execution_count": 109,
   "id": "86e48d9e",
   "metadata": {},
   "outputs": [
    {
     "data": {
      "text/plain": [
       "5084.469413547191"
      ]
     },
     "execution_count": 109,
     "metadata": {},
     "output_type": "execute_result"
    }
   ],
   "source": [
    "linreg.intercept_"
   ]
  },
  {
   "cell_type": "code",
   "execution_count": 110,
   "id": "f5f86414",
   "metadata": {},
   "outputs": [
    {
     "data": {
      "text/plain": [
       "array([0.00259158])"
      ]
     },
     "execution_count": 110,
     "metadata": {},
     "output_type": "execute_result"
    }
   ],
   "source": [
    "linreg.coef_"
   ]
  },
  {
   "cell_type": "code",
   "execution_count": 111,
   "id": "c1ba94b7",
   "metadata": {},
   "outputs": [
    {
     "data": {
      "text/plain": [
       "0.5749985188148989"
      ]
     },
     "execution_count": 111,
     "metadata": {},
     "output_type": "execute_result"
    }
   ],
   "source": [
    "linreg.score(X_train,y_train)\n"
   ]
  },
  {
   "cell_type": "code",
   "execution_count": 112,
   "id": "33050a3f",
   "metadata": {},
   "outputs": [
    {
     "data": {
      "text/plain": [
       "0.5210192722324177"
      ]
     },
     "execution_count": 112,
     "metadata": {},
     "output_type": "execute_result"
    }
   ],
   "source": [
    "linreg.score(X_test,y_test)"
   ]
  },
  {
   "cell_type": "code",
   "execution_count": 113,
   "id": "996c6014",
   "metadata": {},
   "outputs": [],
   "source": [
    "#Overfitting yok ama underfitting var ? https://youtu.be/gFzq_oz_mSQ"
   ]
  },
  {
   "cell_type": "code",
   "execution_count": 114,
   "id": "2b0b4e1e",
   "metadata": {},
   "outputs": [],
   "source": [
    "X=df\n",
    "X_train,X_test,y_train,y_test = train_test_split(X,y,test_size=0.2,random_state=2)"
   ]
  },
  {
   "cell_type": "code",
   "execution_count": 115,
   "id": "f1e443d9",
   "metadata": {},
   "outputs": [
    {
     "data": {
      "text/html": [
       "<div>\n",
       "<style scoped>\n",
       "    .dataframe tbody tr th:only-of-type {\n",
       "        vertical-align: middle;\n",
       "    }\n",
       "\n",
       "    .dataframe tbody tr th {\n",
       "        vertical-align: top;\n",
       "    }\n",
       "\n",
       "    .dataframe thead th {\n",
       "        text-align: right;\n",
       "    }\n",
       "</style>\n",
       "<table border=\"1\" class=\"dataframe\">\n",
       "  <thead>\n",
       "    <tr style=\"text-align: right;\">\n",
       "      <th></th>\n",
       "      <th>Rank</th>\n",
       "      <th>Game</th>\n",
       "      <th>Month</th>\n",
       "      <th>Year</th>\n",
       "      <th>Hours_watched</th>\n",
       "      <th>Hours_Streamed</th>\n",
       "      <th>Peak_viewers</th>\n",
       "      <th>Peak_channels</th>\n",
       "      <th>Streamers</th>\n",
       "      <th>Avg_viewers</th>\n",
       "      <th>Avg_channels</th>\n",
       "      <th>Avg_viewer_ratio</th>\n",
       "    </tr>\n",
       "  </thead>\n",
       "  <tbody>\n",
       "    <tr>\n",
       "      <th>10541</th>\n",
       "      <td>142</td>\n",
       "      <td>Call of Duty: Black Ops 4</td>\n",
       "      <td>5</td>\n",
       "      <td>2020</td>\n",
       "      <td>937302</td>\n",
       "      <td>200433</td>\n",
       "      <td>10165</td>\n",
       "      <td>453</td>\n",
       "      <td>16929</td>\n",
       "      <td>1261</td>\n",
       "      <td>269</td>\n",
       "      <td>4.680000</td>\n",
       "    </tr>\n",
       "    <tr>\n",
       "      <th>10801</th>\n",
       "      <td>2</td>\n",
       "      <td>League of Legends</td>\n",
       "      <td>7</td>\n",
       "      <td>2020</td>\n",
       "      <td>135123272</td>\n",
       "      <td>3248650</td>\n",
       "      <td>494759</td>\n",
       "      <td>7246</td>\n",
       "      <td>223201</td>\n",
       "      <td>181861</td>\n",
       "      <td>4372</td>\n",
       "      <td>41.590000</td>\n",
       "    </tr>\n",
       "    <tr>\n",
       "      <th>13534</th>\n",
       "      <td>135</td>\n",
       "      <td>Call of Duty: Mobile</td>\n",
       "      <td>8</td>\n",
       "      <td>2021</td>\n",
       "      <td>1277121</td>\n",
       "      <td>194883</td>\n",
       "      <td>56900</td>\n",
       "      <td>550</td>\n",
       "      <td>17250</td>\n",
       "      <td>1718</td>\n",
       "      <td>262</td>\n",
       "      <td>6.550000</td>\n",
       "    </tr>\n",
       "    <tr>\n",
       "      <th>937</th>\n",
       "      <td>138</td>\n",
       "      <td>Mario Kart 8</td>\n",
       "      <td>5</td>\n",
       "      <td>2016</td>\n",
       "      <td>155186</td>\n",
       "      <td>4675</td>\n",
       "      <td>6258</td>\n",
       "      <td>28</td>\n",
       "      <td>1064</td>\n",
       "      <td>208</td>\n",
       "      <td>6</td>\n",
       "      <td>33.190000</td>\n",
       "    </tr>\n",
       "    <tr>\n",
       "      <th>2195</th>\n",
       "      <td>196</td>\n",
       "      <td>RPG Maker</td>\n",
       "      <td>11</td>\n",
       "      <td>2016</td>\n",
       "      <td>110345</td>\n",
       "      <td>1131</td>\n",
       "      <td>7584</td>\n",
       "      <td>9</td>\n",
       "      <td>168</td>\n",
       "      <td>153</td>\n",
       "      <td>1</td>\n",
       "      <td>97.560000</td>\n",
       "    </tr>\n",
       "  </tbody>\n",
       "</table>\n",
       "</div>"
      ],
      "text/plain": [
       "       Rank                       Game  Month  Year  Hours_watched  \\\n",
       "10541   142  Call of Duty: Black Ops 4      5  2020         937302   \n",
       "10801     2          League of Legends      7  2020      135123272   \n",
       "13534   135       Call of Duty: Mobile      8  2021        1277121   \n",
       "937     138               Mario Kart 8      5  2016         155186   \n",
       "2195    196                  RPG Maker     11  2016         110345   \n",
       "\n",
       "      Hours_Streamed  Peak_viewers  Peak_channels  Streamers  Avg_viewers  \\\n",
       "10541         200433         10165            453      16929         1261   \n",
       "10801        3248650        494759           7246     223201       181861   \n",
       "13534         194883         56900            550      17250         1718   \n",
       "937             4675          6258             28       1064          208   \n",
       "2195            1131          7584              9        168          153   \n",
       "\n",
       "       Avg_channels  Avg_viewer_ratio  \n",
       "10541           269          4.680000  \n",
       "10801          4372         41.590000  \n",
       "13534           262          6.550000  \n",
       "937               6         33.190000  \n",
       "2195              1         97.560000  "
      ]
     },
     "execution_count": 115,
     "metadata": {},
     "output_type": "execute_result"
    }
   ],
   "source": [
    "X_train.head()"
   ]
  },
  {
   "cell_type": "code",
   "execution_count": 116,
   "id": "fb40f073",
   "metadata": {},
   "outputs": [
    {
     "data": {
      "text/plain": [
       "Rank                  int64\n",
       "Game                 object\n",
       "Month                 int64\n",
       "Year                  int64\n",
       "Hours_watched         int64\n",
       "Hours_Streamed       object\n",
       "Peak_viewers          int64\n",
       "Peak_channels         int64\n",
       "Streamers             int64\n",
       "Avg_viewers           int64\n",
       "Avg_channels          int64\n",
       "Avg_viewer_ratio    float64\n",
       "dtype: object"
      ]
     },
     "execution_count": 116,
     "metadata": {},
     "output_type": "execute_result"
    }
   ],
   "source": [
    "X_train.dtypes"
   ]
  },
  {
   "cell_type": "code",
   "execution_count": null,
   "id": "f4941824",
   "metadata": {},
   "outputs": [],
   "source": [
    "\n"
   ]
  },
  {
   "cell_type": "code",
   "execution_count": null,
   "id": "a289c3b7",
   "metadata": {},
   "outputs": [],
   "source": []
  },
  {
   "cell_type": "code",
   "execution_count": 117,
   "id": "7209f1d6",
   "metadata": {},
   "outputs": [],
   "source": [
    "Y= df.iloc[:,8:9].values.reshape(-1,1)#Streamers\n",
    "X = df.iloc[:,4:5].values.reshape(-1,1)#Hours_watched"
   ]
  },
  {
   "cell_type": "code",
   "execution_count": 118,
   "id": "df976302",
   "metadata": {},
   "outputs": [],
   "source": [
    "linear_regressor = LinearRegression()  # create object for the class\n",
    "linear_regressor.fit(X, Y)  # perform linear regression\n",
    "Y_pred = linear_regressor.predict(X)  # make predictions"
   ]
  },
  {
   "cell_type": "code",
   "execution_count": 119,
   "id": "3af159df",
   "metadata": {},
   "outputs": [
    {
     "data": {
      "image/png": "[encoded data removed]",
      "text/plain": [
       "<Figure size 1700x1000 with 1 Axes>"
      ]
     },
     "metadata": {},
     "output_type": "display_data"
    }
   ],
   "source": [
    "fig = plt.figure(figsize=(17,10))\n",
    "\n",
    "plt.scatter(X, Y, color=\"turquoise\")\n",
    "plt.plot(X, Y_pred, color='darkslategray')\n",
    "plt.title('Correct vs Predict')\n",
    "plt.xlabel('Correct')\n",
    "plt.ylabel('Predict')\n",
    "plt.show()"
   ]
  },
  {
   "cell_type": "code",
   "execution_count": null,
   "id": "6f1efcf1",
   "metadata": {},
   "outputs": [],
   "source": []
  },
  {
   "cell_type": "code",
   "execution_count": null,
   "id": "5172a6aa",
   "metadata": {},
   "outputs": [],
   "source": []
  },
  {
   "cell_type": "code",
   "execution_count": null,
   "id": "68b2721e",
   "metadata": {},
   "outputs": [],
   "source": []
  }
 ],
 "metadata": {
  "kernelspec": {
   "display_name": "Python 3 (ipykernel)",
   "language": "python",
   "name": "python3"
  },
  "language_info": {
   "codemirror_mode": {
    "name": "ipython",
    "version": 3
   },
   "file_extension": ".py",
   "mimetype": "text/x-python",
   "name": "python",
   "nbconvert_exporter": "python",
   "pygments_lexer": "ipython3",
   "version": "3.10.8"
  }
 },
 "nbformat": 4,
 "nbformat_minor": 5
}
